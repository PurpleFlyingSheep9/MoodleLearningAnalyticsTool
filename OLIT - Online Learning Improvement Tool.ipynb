{
 "cells": [
  {
   "cell_type": "code",
   "execution_count": 1,
   "metadata": {
    "scrolled": true
   },
   "outputs": [],
   "source": [
    "import os\n",
    "import pandas as pd\n",
    "import pickle"
   ]
  },
  {
   "cell_type": "code",
   "execution_count": 2,
   "metadata": {},
   "outputs": [],
   "source": [
    "#Set input folder to where the dataset is locally\n",
    "# input_folder = os.chdir('C:\\\\Users\\\\Tanja\\\\Desktop\\\\ML project\\\\')\n",
    "# data_with_IDs = pd.read_csv('datasets_dataset.csv')      #data with student IDs\n",
    "# ID_list = list(data_with_IDs['ID'])"
   ]
  },
  {
   "cell_type": "code",
   "execution_count": 3,
   "metadata": {},
   "outputs": [],
   "source": [
    "from tkinter.filedialog import askopenfilename\n",
    "from tkinter import Tk\n",
    "\n",
    "def LoadData():\n",
    "    filename = askopenfilename()\n",
    "    #data = pd.read_csv('dataset_oversampled.csv')       #data used for the decision tree\n",
    "    data = pd.read_csv(filename)\n",
    "    return data"
   ]
  },
  {
   "cell_type": "code",
   "execution_count": 4,
   "metadata": {},
   "outputs": [],
   "source": [
    "# data: the dataframe, with features and target\n",
    "# n: number of weeks to train the model on; default is 4\n",
    "\n",
    "def Predict(data, n=4):\n",
    "    # extract the features from the first n weeks\n",
    "    columns = []\n",
    "    for c in data.columns[:-1]:\n",
    "        if int(c[4]) <= n:\n",
    "            columns.append(c)\n",
    "            \n",
    "    df = data[columns].copy()\n",
    "    modelname = askopenfilename()\n",
    "\n",
    "#     lr = pickle.load(open('model.sav', 'rb'))\n",
    "    lr = pickle.load(open(modelname, 'rb'))\n",
    "    predictions = lr.predict(df[columns])\n",
    "    data['prediction'] = predictions\n",
    "    \n",
    "    return [(index, int(r['prediction'])) for index, r in data.iterrows()]"
   ]
  },
  {
   "cell_type": "code",
   "execution_count": 5,
   "metadata": {},
   "outputs": [
    {
     "name": "stderr",
     "output_type": "stream",
     "text": [
      "C:\\Users\\Tanja\\Anaconda3\\lib\\site-packages\\sklearn\\base.py:334: UserWarning: Trying to unpickle estimator LogisticRegression from version 0.22.1 when using version 0.23.1. This might lead to breaking code or invalid results. Use at your own risk.\n",
      "  UserWarning)\n"
     ]
    }
   ],
   "source": [
    "ID_plus_grade_tuples = Predict(LoadData())"
   ]
  },
  {
   "cell_type": "code",
   "execution_count": 6,
   "metadata": {},
   "outputs": [],
   "source": [
    "def HowToImprove(grade):\n",
    "\n",
    "    # for high-achievers\n",
    "    if grade == 5:\n",
    "        return 'This student is predicted to obtain the maximum grade.\\nNo meeting is necessary.'\n",
    "    \n",
    "    if grade == 4:\n",
    "        return 'The student is performing well, and is predicted to obtain a grade \\nof 4.\\nIn order to ' + 'improve and obtain a higher grade, this student should \\nfocus on obtaining at least 80% on the third project.'\n",
    "    \n",
    "    # for low-achievers\n",
    "    if grade == 3:\n",
    "        return 'This student is predicted to obtain a grade of 3, but can improve \\ntowards 4.\\nStudents who obtained a final grade ' + '4 have, on average, a lot of \\ncourse interaction in the fifth and sixth week.\\n' + 'Besides this, students with a grade of 4 obtained at least 67% in the \\nsecond project.'\n",
    "        \n",
    "    if grade == 2:\n",
    "        return 'The student is predicted to obtain a grade of 2, but can improve \\ntowards 3.\\nA distinctive feature between ' + 'these two grades is that, students with a final grade of 3 have a lot of interaction with the course content in \\n' + 'the fifth week of the course.\\nBook a meeting with the student and recommend them to carefully \\nstudy the course ' + 'materials for the following week, then to focus on \\nthe second miniproject, which is also due at the end of the fifth ' + 'week.\\nStudents with a grade of 3 obtained, on average, at least 75% on the second miniproject, whereas students ' + 'who had a grade of 2 \\nobtained less than 75% for this project, so advice the student \\nto focus on the upcoming assignment ' + 'in order to obtain at least 75%.'\n",
    "    \n",
    "    # for predicted drop-outs\n",
    "    return 'This student will most likely drop the course or not pass.\\nYou should establish a meeting to assess their current' + 'situation.\\nIf the student wants to continue the course, then their strategy should be \\nto focus on fully completing the ' + 'second project and aim on \\nobtaining at least 60% on the third project.\\nFor this, they should carefully read the course material,\\n' + 'watch the recommended tutorials, and then ask on forum the questions \\nthey have, or search online.'"
   ]
  },
  {
   "cell_type": "code",
   "execution_count": 7,
   "metadata": {},
   "outputs": [],
   "source": [
    "def onselect(evt):\n",
    "    # Note here that Tkinter passes an event object to onselect()\n",
    "    w = evt.widget\n",
    "    index = int(w.curselection()[0])\n",
    "\n",
    "    value = w.get(index)\n",
    "\n",
    "    T1.delete('1.0', END)\n",
    "\n",
    "    T1.insert('1.0', 'You chose student %s.\\n' % (value[3:-10]))\n",
    "    T1.insert('2.0', '\\n')\n",
    "\n",
    "    #global grade\n",
    "    grade = ID_plus_grade_tuples[index][1]\n",
    "    test_int.set(grade)\n",
    "    T1.insert('3.0', 'This student has a grade %s.\\n' % (str(grade)))\n",
    "    T1.insert('4.0', '\\n')\n",
    "\n",
    "\n",
    "    return value"
   ]
  },
  {
   "cell_type": "code",
   "execution_count": 8,
   "metadata": {},
   "outputs": [],
   "source": [
    "def improve_button(grade):\n",
    "    \n",
    "    T1.insert('5.0', '\\n')\n",
    "    advice = HowToImprove(grade)\n",
    "    T1.insert('6.0', advice)\n",
    "\n",
    "    return value"
   ]
  },
  {
   "cell_type": "code",
   "execution_count": 9,
   "metadata": {},
   "outputs": [],
   "source": [
    "def blah(items):\n",
    "    for i in items:\n",
    "        T1.insert(END, row)"
   ]
  },
  {
   "cell_type": "code",
   "execution_count": 10,
   "metadata": {},
   "outputs": [],
   "source": [
    "import tkinter\n",
    "from tkinter import *\n",
    "from tkinter import font\n",
    "from PIL import Image, ImageTk\n",
    "\n",
    "top = tkinter.Tk()\n",
    "global grade\n",
    "grade = 6\n",
    "global value\n",
    "value = 0\n",
    "\n",
    "#Loading image\n",
    "#filename = askopenfilename()\n",
    "\n",
    "#Image_path= askopenfilename()#\"C:\\\\Users\\\\Tanja\\\\Desktop\\\\better1.png\"  # Enter the path of image file.\n",
    "top.title('OLIT - Online Learning Improvement Tool')\n",
    "#Fonts\n",
    "appHighlightFont = font.Font(family='Helvetica', size=14, weight='bold')\n",
    "appFont = font.Font(family='Helvetica', size=13)\n",
    "appFont_2 = font.Font(family='Helvetica', size=16)\n",
    "\n",
    "font.families()\n",
    "\n",
    "#image1 = tkinter.PhotoImage(file=Image_path)\n",
    "\n",
    "top.geometry(\"%dx%d+0+0\" % (2,2))\n",
    "\n",
    "#panel1 = tkinter.Label(top, image=image1)\n",
    "#panel1.place(x = 100, y = 450)\n",
    "#panel1.image = image1\n",
    "#Background\n",
    "top.configure(bg = 'lightblue')\n",
    "\n",
    "#items = map(int, list.curselection())\n",
    "test_int = tkinter.IntVar()\n",
    "\n",
    "#Making all the elements\n",
    "B1 = tkinter.Button ( top, height = 3, width = 30, text='Load Data', font = appHighlightFont, activebackground = 'lightgrey', command = lambda: LoadData, bg = 'white', anchor = 'center', compound=\"center\" )\n",
    "B2 = tkinter.Button ( top, height = 3, width = 30, text='Predict', font = appHighlightFont, activebackground = 'lightgrey', bg = 'white', anchor = 'center', compound=\"center\" )\n",
    "T1 = Text ( top, font = appFont )\n",
    "B3 = tkinter.Button ( top, height = 3, width = 30, text='How to improve', font = appHighlightFont, activebackground = 'lightgrey', command =lambda: improve_button(test_int.get()), bg = 'white', anchor = 'center', compound=\"center\" )\n",
    "\n",
    "\n",
    "L3 = Label ( top, text = 'Choose a student and see how they can improve', font = appFont )\n",
    "T2 = Text ( top, font = appFont )\n",
    "intstructions_file_name = askopenfilename()\n",
    "new_text = open(intstructions_file_name,'r')\n",
    "\n",
    "for row in new_text:\n",
    "    T2.insert(END, row)\n",
    "\n",
    "\n",
    "\n",
    "\n",
    "#Placing the elements\n",
    "B1.place(x=600, y=100)\n",
    "B2.place(x = 600, y = 200)\n",
    "B3.pack()\n",
    "B3.place(x = 600, y = 300)\n",
    "T1.place(x = 1060, y = 450, height=340, width=510)\n",
    "T2.place(x = 100, y = 100, height=310, width=310)\n",
    "\n",
    "Lb1 = tkinter.Listbox(top, highlightcolor = 'grey', width = 50, font = appFont)\n",
    "Lb1.bind('<<ListboxSelect>>', onselect)\n",
    "#Putting student IDs into the listbox   \n",
    "for i in range(len(ID_plus_grade_tuples)):\n",
    "    Lb1.insert(END, 'ID: ML-2020-' + str(ID_plus_grade_tuples[i][0]) + ', Grade: ' + str(ID_plus_grade_tuples[i][1]))\n",
    "\n",
    "    \n",
    "scrollbar = tkinter.Scrollbar (top)\n",
    "scrollbar.place(x = 1544, y = 130, height = 203)\n",
    "Lb1.config(yscrollcommand=scrollbar.set)\n",
    "scrollbar.config(command=Lb1.yview)\n",
    "\n",
    "\n",
    "Lb1.place(x = 1099, y = 130)\n",
    "L3.place(x = 1100, y = 100)\n",
    "\n",
    "\n",
    "top.mainloop()"
   ]
  }
 ],
 "metadata": {
  "kernelspec": {
   "display_name": "Python 3",
   "language": "python",
   "name": "python3"
  },
  "language_info": {
   "codemirror_mode": {
    "name": "ipython",
    "version": 3
   },
   "file_extension": ".py",
   "mimetype": "text/x-python",
   "name": "python",
   "nbconvert_exporter": "python",
   "pygments_lexer": "ipython3",
   "version": "3.7.1"
  }
 },
 "nbformat": 4,
 "nbformat_minor": 4
}
